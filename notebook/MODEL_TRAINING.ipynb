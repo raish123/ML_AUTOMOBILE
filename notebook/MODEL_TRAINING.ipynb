{
 "cells": [
  {
   "cell_type": "code",
   "execution_count": 169,
   "metadata": {
    "executionInfo": {
     "elapsed": 2065,
     "status": "ok",
     "timestamp": 1707836579169,
     "user": {
      "displayName": "Shaikh Raish Azam",
      "userId": "13955866307507937789"
     },
     "user_tz": -330
    },
    "id": "rJTuhoM69IPd"
   },
   "outputs": [],
   "source": [
    "#importing all the required module in the analysis of AUTOMOBILE DATASET\n",
    "\n",
    "import pandas as pd #used to deal with dataset which is present in tabular format\n",
    "import numpy as np #this library of python weused to perform mathematical and statistical operation in existing dataset\n",
    "import seaborn as sb #this library or matplotlib library is used for data visualization\n",
    "from matplotlib import pyplot as plt\n",
    "import sklearn #this library is used to perform ML operation in existing dataset\n",
    "import imblearn #this library we used to balance the quantity of binary class classifier output variable ka"
   ]
  },
  {
   "cell_type": "markdown",
   "metadata": {},
   "source": [
    "# loading the dataset into df object"
   ]
  },
  {
   "cell_type": "code",
   "execution_count": 170,
   "metadata": {
    "colab": {
     "base_uri": "https://localhost:8080/",
     "height": 275
    },
    "executionInfo": {
     "elapsed": 1070,
     "status": "ok",
     "timestamp": 1707836585609,
     "user": {
      "displayName": "Shaikh Raish Azam",
      "userId": "13955866307507937789"
     },
     "user_tz": -330
    },
    "id": "fZV62b039f85",
    "outputId": "d7a8074d-22af-40e0-c70a-4499a9e495dc"
   },
   "outputs": [
    {
     "data": {
      "text/html": [
       "<div>\n",
       "<style scoped>\n",
       "    .dataframe tbody tr th:only-of-type {\n",
       "        vertical-align: middle;\n",
       "    }\n",
       "\n",
       "    .dataframe tbody tr th {\n",
       "        vertical-align: top;\n",
       "    }\n",
       "\n",
       "    .dataframe thead th {\n",
       "        text-align: right;\n",
       "    }\n",
       "</style>\n",
       "<table border=\"1\" class=\"dataframe\">\n",
       "  <thead>\n",
       "    <tr style=\"text-align: right;\">\n",
       "      <th></th>\n",
       "      <th>symboling</th>\n",
       "      <th>normalized-losses</th>\n",
       "      <th>make</th>\n",
       "      <th>fuel-type</th>\n",
       "      <th>body-style</th>\n",
       "      <th>drive-wheels</th>\n",
       "      <th>engine-location</th>\n",
       "      <th>width</th>\n",
       "      <th>height</th>\n",
       "      <th>engine-type</th>\n",
       "      <th>engine-size</th>\n",
       "      <th>horsepower</th>\n",
       "      <th>city-mpg</th>\n",
       "      <th>highway-mpg</th>\n",
       "      <th>price</th>\n",
       "    </tr>\n",
       "  </thead>\n",
       "  <tbody>\n",
       "    <tr>\n",
       "      <th>0</th>\n",
       "      <td>3</td>\n",
       "      <td>4.804021</td>\n",
       "      <td>alfa-romero</td>\n",
       "      <td>gas</td>\n",
       "      <td>convertible</td>\n",
       "      <td>rwd</td>\n",
       "      <td>front</td>\n",
       "      <td>64.1</td>\n",
       "      <td>3.887730</td>\n",
       "      <td>dohc</td>\n",
       "      <td>130</td>\n",
       "      <td>111.0</td>\n",
       "      <td>21</td>\n",
       "      <td>27</td>\n",
       "      <td>13495</td>\n",
       "    </tr>\n",
       "    <tr>\n",
       "      <th>1</th>\n",
       "      <td>3</td>\n",
       "      <td>4.804021</td>\n",
       "      <td>alfa-romero</td>\n",
       "      <td>gas</td>\n",
       "      <td>convertible</td>\n",
       "      <td>rwd</td>\n",
       "      <td>front</td>\n",
       "      <td>64.1</td>\n",
       "      <td>3.887730</td>\n",
       "      <td>dohc</td>\n",
       "      <td>130</td>\n",
       "      <td>111.0</td>\n",
       "      <td>21</td>\n",
       "      <td>27</td>\n",
       "      <td>16500</td>\n",
       "    </tr>\n",
       "    <tr>\n",
       "      <th>2</th>\n",
       "      <td>1</td>\n",
       "      <td>4.804021</td>\n",
       "      <td>alfa-romero</td>\n",
       "      <td>gas</td>\n",
       "      <td>hatchback</td>\n",
       "      <td>rwd</td>\n",
       "      <td>front</td>\n",
       "      <td>65.5</td>\n",
       "      <td>3.958907</td>\n",
       "      <td>ohcv</td>\n",
       "      <td>152</td>\n",
       "      <td>154.0</td>\n",
       "      <td>19</td>\n",
       "      <td>26</td>\n",
       "      <td>16500</td>\n",
       "    </tr>\n",
       "    <tr>\n",
       "      <th>3</th>\n",
       "      <td>2</td>\n",
       "      <td>5.099866</td>\n",
       "      <td>audi</td>\n",
       "      <td>gas</td>\n",
       "      <td>sedan</td>\n",
       "      <td>fwd</td>\n",
       "      <td>front</td>\n",
       "      <td>66.2</td>\n",
       "      <td>3.994524</td>\n",
       "      <td>ohc</td>\n",
       "      <td>109</td>\n",
       "      <td>102.0</td>\n",
       "      <td>24</td>\n",
       "      <td>30</td>\n",
       "      <td>13950</td>\n",
       "    </tr>\n",
       "    <tr>\n",
       "      <th>4</th>\n",
       "      <td>2</td>\n",
       "      <td>5.099866</td>\n",
       "      <td>audi</td>\n",
       "      <td>gas</td>\n",
       "      <td>sedan</td>\n",
       "      <td>4wd</td>\n",
       "      <td>front</td>\n",
       "      <td>66.4</td>\n",
       "      <td>3.994524</td>\n",
       "      <td>ohc</td>\n",
       "      <td>136</td>\n",
       "      <td>115.0</td>\n",
       "      <td>18</td>\n",
       "      <td>22</td>\n",
       "      <td>17450</td>\n",
       "    </tr>\n",
       "  </tbody>\n",
       "</table>\n",
       "</div>"
      ],
      "text/plain": [
       "   symboling  normalized-losses         make fuel-type   body-style  \\\n",
       "0          3           4.804021  alfa-romero       gas  convertible   \n",
       "1          3           4.804021  alfa-romero       gas  convertible   \n",
       "2          1           4.804021  alfa-romero       gas    hatchback   \n",
       "3          2           5.099866         audi       gas        sedan   \n",
       "4          2           5.099866         audi       gas        sedan   \n",
       "\n",
       "  drive-wheels engine-location  width    height engine-type  engine-size  \\\n",
       "0          rwd           front   64.1  3.887730        dohc          130   \n",
       "1          rwd           front   64.1  3.887730        dohc          130   \n",
       "2          rwd           front   65.5  3.958907        ohcv          152   \n",
       "3          fwd           front   66.2  3.994524         ohc          109   \n",
       "4          4wd           front   66.4  3.994524         ohc          136   \n",
       "\n",
       "   horsepower  city-mpg  highway-mpg  price  \n",
       "0       111.0        21           27  13495  \n",
       "1       111.0        21           27  16500  \n",
       "2       154.0        19           26  16500  \n",
       "3       102.0        24           30  13950  \n",
       "4       115.0        18           22  17450  "
      ]
     },
     "execution_count": 170,
     "metadata": {},
     "output_type": "execute_result"
    }
   ],
   "source": [
    "#now loading the tabular dataset which is present in format of CSV and converting into df object\n",
    "path_dataset = 'cleaned_automobile.csv'\n",
    "seprators = ','\n",
    "\n",
    "#now loading the csv file by using pandas librray built in method read_csv() and converting dataset to df object\n",
    "df = pd.read_csv(path_dataset,sep = seprators)\n",
    "#to show top 5 records from df object\n",
    "df.head()"
   ]
  },
  {
   "cell_type": "code",
   "execution_count": 171,
   "metadata": {
    "colab": {
     "base_uri": "https://localhost:8080/"
    },
    "executionInfo": {
     "elapsed": 46,
     "status": "ok",
     "timestamp": 1707836585610,
     "user": {
      "displayName": "Shaikh Raish Azam",
      "userId": "13955866307507937789"
     },
     "user_tz": -330
    },
    "id": "pg6MvcVq9f__",
    "outputId": "874c2571-e662-44dd-988d-59e3d55d0fc5"
   },
   "outputs": [
    {
     "data": {
      "text/plain": [
       "(191, 15)"
      ]
     },
     "execution_count": 171,
     "metadata": {},
     "output_type": "execute_result"
    }
   ],
   "source": [
    "#to check the shape of dataset achieve by using shape attribute of numpy library\n",
    "df.shape"
   ]
  },
  {
   "cell_type": "markdown",
   "metadata": {},
   "source": [
    "# selecting input and output variable"
   ]
  },
  {
   "cell_type": "code",
   "execution_count": 172,
   "metadata": {},
   "outputs": [
    {
     "data": {
      "text/plain": [
       "(2, 1)"
      ]
     },
     "execution_count": 172,
     "metadata": {},
     "output_type": "execute_result"
    }
   ],
   "source": [
    "#selecting input and output variable from dataset\n",
    "x = df.drop('price',axis=1) #input variable must be in 2d array in nature\n",
    "#where as output variable must be 1d in nature\n",
    "y = df['price']\n",
    "x.ndim,y.ndim"
   ]
  },
  {
   "cell_type": "markdown",
   "metadata": {},
   "source": [
    "# converting the object dtype column to numeric by using onehotencoder and doing scaling  to features of sklearn library"
   ]
  },
  {
   "cell_type": "code",
   "execution_count": 173,
   "metadata": {
    "executionInfo": {
     "elapsed": 23,
     "status": "ok",
     "timestamp": 1707836589463,
     "user": {
      "displayName": "Shaikh Raish Azam",
      "userId": "13955866307507937789"
     },
     "user_tz": -330
    },
    "id": "JeQGTOpRMq1O"
   },
   "outputs": [
    {
     "name": "stdout",
     "output_type": "stream",
     "text": [
      "categorical_features_columns: Index(['make', 'fuel-type', 'body-style', 'drive-wheels', 'engine-location',\n",
      "       'engine-type'],\n",
      "      dtype='object')\n",
      "\n",
      "numerical_features_columns: Index(['symboling', 'normalized-losses', 'width', 'height', 'engine-size',\n",
      "       'horsepower', 'city-mpg', 'highway-mpg'],\n",
      "      dtype='object')\n"
     ]
    }
   ],
   "source": [
    "#before converting object column to numeric first we have to bifurgate the dataset according to dtypes of column\n",
    "#to get list of columns according to dtypes\n",
    "df_cat = x.select_dtypes(include = 'object').columns\n",
    "df_num = x.select_dtypes(exclude = 'object').columns\n",
    "print(f\"categorical_features_columns: {df_cat}\")\n",
    "print()\n",
    "print(f\"numerical_features_columns: {df_num}\")"
   ]
  },
  {
   "cell_type": "code",
   "execution_count": 174,
   "metadata": {},
   "outputs": [
    {
     "data": {
      "text/plain": [
       "(191, 47)"
      ]
     },
     "execution_count": 174,
     "metadata": {},
     "output_type": "execute_result"
    }
   ],
   "source": [
    "from sklearn.preprocessing import OneHotEncoder, StandardScaler\n",
    "from sklearn.compose import ColumnTransformer\n",
    "\n",
    "df_cat = x.select_dtypes(include = 'object').columns\n",
    "df_num = x.select_dtypes(exclude = 'object').columns\n",
    "\n",
    "numeric_transformer = StandardScaler()\n",
    "obj_transformer = OneHotEncoder()\n",
    "\n",
    "#will create pipeline first change object to numeric then change do scaling \n",
    "preprocessor = ColumnTransformer(\n",
    "    [\n",
    "        (\"OneHotEncoder\", obj_transformer, df_cat),\n",
    "         (\"StandardScaler\", numeric_transformer, df_num),        \n",
    "    ]\n",
    ")\n",
    "\n",
    "x = preprocessor.fit_transform(x)\n",
    "x.shape"
   ]
  },
  {
   "cell_type": "markdown",
   "metadata": {
    "id": "jlhupB-jOxgH"
   },
   "source": [
    "# #splitting dataset into 80:20 ratio"
   ]
  },
  {
   "cell_type": "code",
   "execution_count": 175,
   "metadata": {
    "executionInfo": {
     "elapsed": 50,
     "status": "ok",
     "timestamp": 1707836591998,
     "user": {
      "displayName": "Shaikh Raish Azam",
      "userId": "13955866307507937789"
     },
     "user_tz": -330
    },
    "id": "zZ3SCjndMrKf"
   },
   "outputs": [],
   "source": [
    "#so splitting the dataset into 80 :20 ratio pe\n",
    "#80% of dataset we used for training purpose ke liye and reemaining 30% we used for testing purpose ke liye\n",
    "\n",
    "from sklearn.model_selection import train_test_split\n",
    "\n",
    "#creating an object of train test split class\n",
    "x_train,x_test,y_train,y_test = train_test_split(x,y,test_size=0.2,random_state=1)"
   ]
  },
  {
   "cell_type": "code",
   "execution_count": 176,
   "metadata": {
    "colab": {
     "base_uri": "https://localhost:8080/"
    },
    "executionInfo": {
     "elapsed": 50,
     "status": "ok",
     "timestamp": 1707836591998,
     "user": {
      "displayName": "Shaikh Raish Azam",
      "userId": "13955866307507937789"
     },
     "user_tz": -330
    },
    "id": "rQFqtH6B1tKm",
    "outputId": "60398810-75b4-4f0f-b5cd-6cae04a0de61"
   },
   "outputs": [
    {
     "data": {
      "text/plain": [
       "((152, 47), (152,), 2, 1)"
      ]
     },
     "execution_count": 176,
     "metadata": {},
     "output_type": "execute_result"
    }
   ],
   "source": [
    "#now checking the shape of training data and dimension\n",
    "x_train.shape,y_train.shape,x_train.ndim,y_train.ndim"
   ]
  },
  {
   "cell_type": "code",
   "execution_count": 177,
   "metadata": {
    "colab": {
     "base_uri": "https://localhost:8080/"
    },
    "executionInfo": {
     "elapsed": 47,
     "status": "ok",
     "timestamp": 1707836591998,
     "user": {
      "displayName": "Shaikh Raish Azam",
      "userId": "13955866307507937789"
     },
     "user_tz": -330
    },
    "id": "chnxyvfzMrNV",
    "outputId": "5986450c-071d-4a6a-abb3-9a2b1ca838b5"
   },
   "outputs": [
    {
     "data": {
      "text/plain": [
       "((39, 47), (39,), 2, 1)"
      ]
     },
     "execution_count": 177,
     "metadata": {},
     "output_type": "execute_result"
    }
   ],
   "source": [
    "#now checking the shape of testing data and dimension\n",
    "x_test.shape,y_test.shape,x_test.ndim,y_test.ndim"
   ]
  },
  {
   "cell_type": "markdown",
   "metadata": {},
   "source": [
    "# Create an Evaluate Function to give all metrics after model Training"
   ]
  },
  {
   "cell_type": "code",
   "execution_count": 178,
   "metadata": {
    "executionInfo": {
     "elapsed": 31,
     "status": "ok",
     "timestamp": 1707836591999,
     "user": {
      "displayName": "Shaikh Raish Azam",
      "userId": "13955866307507937789"
     },
     "user_tz": -330
    },
    "id": "5kXnmO2pMrZn"
   },
   "outputs": [],
   "source": [
    "#now creating user defined function to train the model and evaluate the accuracy of model\n",
    "def model_training(model):\n",
    "    print(f\"Name_of_model: {model}\")\n",
    "    #now 80% train data we r applying for training purpose\n",
    "    model.fit(x_train,y_train) #it will check relation,plot scatterplot graph,and draw best fit line(predict by machine)on graph\n",
    "    \n",
    "    #now 20% of test data we have predicting the model\n",
    "    y_pred = model.predict(x_test)\n",
    "    \n",
    "    #now evaluating the accuracy of model by finding out mse,rmse,r2(testing score of model)\n",
    "    #so calling the metrics class of sklearn library\n",
    "    from sklearn.metrics import mean_squared_error,r2_score\n",
    "    mse = mean_squared_error(y_test,y_pred)\n",
    "    r2 = r2_score(y_test,y_pred)\n",
    "    print(f\"mean_squared_error: {mse}\")\n",
    "    print(f\"testing_score_model: {r2}\")\n",
    "    print('--------------------------------------------------------------------------------------------------')\n",
    "    \n",
    "    return model"
   ]
  },
  {
   "cell_type": "markdown",
   "metadata": {
    "id": "beIVtMiEdv7x"
   },
   "source": [
    "# now feeding the dataset to the Regression Algorithm"
   ]
  },
  {
   "cell_type": "code",
   "execution_count": 179,
   "metadata": {
    "executionInfo": {
     "elapsed": 31,
     "status": "ok",
     "timestamp": 1707836591999,
     "user": {
      "displayName": "Shaikh Raish Azam",
      "userId": "13955866307507937789"
     },
     "user_tz": -330
    },
    "id": "Q7GBk_YiMrcg"
   },
   "outputs": [
    {
     "name": "stdout",
     "output_type": "stream",
     "text": [
      "Name_of_model: LinearRegression()\n",
      "mean_squared_error: 3888850.1945484458\n",
      "testing_score_model: 0.8198106765252584\n",
      "--------------------------------------------------------------------------------------------------\n"
     ]
    }
   ],
   "source": [
    "#so calling the class of LR algo\n",
    "from sklearn.linear_model import LinearRegression\n",
    "\n",
    "#creating an object of LinearRegression class\n",
    "lr = LinearRegression()\n",
    "\n",
    "#now calling user defined function\n",
    "lr = model_training(lr)"
   ]
  },
  {
   "cell_type": "markdown",
   "metadata": {},
   "source": [
    "# now doing feature selection of model by applying Reqularisation to it finding out which feature is important to find output variable"
   ]
  },
  {
   "cell_type": "markdown",
   "metadata": {
    "id": "UNqDgezroWbA"
   },
   "source": [
    "#REGULARISATION OF MODEL"
   ]
  },
  {
   "cell_type": "markdown",
   "metadata": {
    "id": "-Gwebb0RwddN"
   },
   "source": [
    "#lasso regularisation Theory"
   ]
  },
  {
   "cell_type": "code",
   "execution_count": 180,
   "metadata": {
    "executionInfo": {
     "elapsed": 15,
     "status": "ok",
     "timestamp": 1707836594945,
     "user": {
      "displayName": "Shaikh Raish Azam",
      "userId": "13955866307507937789"
     },
     "user_tz": -330
    },
    "id": "-FmewhyrMtvD"
   },
   "outputs": [],
   "source": [
    "#in lasso regularisation----> at the time of training the model we add some external error in it bcoz of that best fit line get shifted\n",
    "#and error @time of training minimum and also getting error @ time of testing also--->by default ACCURACY of Model increase!!!\n",
    "#the external error we r adding in lasso --> rss+hyperparameter*(summartion(mod(slope of all the input variable)))\n",
    "#in ML whaterver dataset we have the hyperparameter value lie btn 200-1000 set hyperparameter value according to u r dataset\n",
    "#lasso make slope 0 of those input which is not impt to find output variable"
   ]
  },
  {
   "cell_type": "code",
   "execution_count": 181,
   "metadata": {
    "executionInfo": {
     "elapsed": 15,
     "status": "ok",
     "timestamp": 1707836594945,
     "user": {
      "displayName": "Shaikh Raish Azam",
      "userId": "13955866307507937789"
     },
     "user_tz": -330
    },
    "id": "b0twAhfiMt7f"
   },
   "outputs": [],
   "source": [
    "#so calling the class of lasso Algorithm\n",
    "from sklearn.linear_model import Lasso"
   ]
  },
  {
   "cell_type": "code",
   "execution_count": 182,
   "metadata": {
    "executionInfo": {
     "elapsed": 14,
     "status": "ok",
     "timestamp": 1707836594945,
     "user": {
      "displayName": "Shaikh Raish Azam",
      "userId": "13955866307507937789"
     },
     "user_tz": -330
    },
    "id": "mC4LSRJmxW_C"
   },
   "outputs": [],
   "source": [
    "#lasso model bhi first checking relationship btn input and output variable\n",
    "#then those relation-ship visualizing on scatterplot graph then machine predict best fit which is close to all the datapoint\n",
    "#and get error as minimum as possible from that we r getting Residual sum of squared error\n",
    "# calculatiing slope of all the input variable\n",
    "#rss+hyperparameter*(summartion(mod(slope of all the input variable))) applying this eqn to complete the training"
   ]
  },
  {
   "cell_type": "code",
   "execution_count": 183,
   "metadata": {
    "executionInfo": {
     "elapsed": 15,
     "status": "ok",
     "timestamp": 1707836594946,
     "user": {
      "displayName": "Shaikh Raish Azam",
      "userId": "13955866307507937789"
     },
     "user_tz": -330
    },
    "id": "NnuO9o1RMt-p"
   },
   "outputs": [],
   "source": [
    "# #now doing hit and trail method to identify hyperparameter for my dataset\n",
    "\n",
    "# for i in range(200,1001,50):\n",
    "#   #creating an object of lasso class\n",
    "#   l1 = Lasso(i)\n",
    "#   print(i)\n",
    "#   #now training the model by adding external error in it\n",
    "#   l1.fit(x_train,y_train)\n",
    "\n",
    "#   #now checking the training score\n",
    "#   train_score = l1.score(x_train,y_train)\n",
    "#   print(f'training_score: {train_score}')\n",
    "\n",
    "#   #now checking the testing score\n",
    "#   test_score = l1.score(x_test,y_test)\n",
    "#   print(f'test_score: {test_score}')\n",
    "#   print()\n",
    "\n",
    "# #hyperparameter value will be consider for this dataset is 950"
   ]
  },
  {
   "cell_type": "code",
   "execution_count": 184,
   "metadata": {
    "colab": {
     "base_uri": "https://localhost:8080/"
    },
    "executionInfo": {
     "elapsed": 80,
     "status": "ok",
     "timestamp": 1707836596008,
     "user": {
      "displayName": "Shaikh Raish Azam",
      "userId": "13955866307507937789"
     },
     "user_tz": -330
    },
    "id": "l__jSb7LMuBr",
    "outputId": "0da34f91-c26d-46e4-9d4a-5710936ddedf"
   },
   "outputs": [
    {
     "name": "stdout",
     "output_type": "stream",
     "text": [
      "Name_of_model: Lasso(alpha=950)\n",
      "mean_squared_error: 9426567.972498223\n",
      "testing_score_model: 0.563221306895739\n",
      "--------------------------------------------------------------------------------------------------\n"
     ]
    }
   ],
   "source": [
    "#creating an object of lasso class\n",
    "l1 = Lasso(950)\n",
    "l1 = model_training(l1)"
   ]
  },
  {
   "cell_type": "markdown",
   "metadata": {
    "id": "juZ_Bq_61wbD"
   },
   "source": [
    "#Now Applying Ridge Regularisation to this dataset"
   ]
  },
  {
   "cell_type": "code",
   "execution_count": 185,
   "metadata": {
    "executionInfo": {
     "elapsed": 53,
     "status": "ok",
     "timestamp": 1707836596015,
     "user": {
      "displayName": "Shaikh Raish Azam",
      "userId": "13955866307507937789"
     },
     "user_tz": -330
    },
    "id": "0Gn6oSHc14E6"
   },
   "outputs": [],
   "source": [
    "#so calling the class\n",
    "from sklearn.linear_model import Ridge\n",
    "\n",
    "#ridge also at time training adding some external error in it!\n",
    "#we add some external error in it bcoz of that best fit line get shifted\n",
    "#and error @time of training minimum and also getting error @ time of testing also--->by default ACCURACY of Model increase!!!\n",
    "#the external error we r adding in Ridge --> rss+hyperparameter*(summartion(slope of all the input variable)^2)\n",
    "#in ML whaterver dataset we have the hyperparameter value lie btn 0-50 set hyperparameter value according to u r dataset\n",
    "#Ridge make slope value Maximum of those input which is not impt to find output variable!!\n"
   ]
  },
  {
   "cell_type": "code",
   "execution_count": 186,
   "metadata": {
    "executionInfo": {
     "elapsed": 52,
     "status": "ok",
     "timestamp": 1707836596016,
     "user": {
      "displayName": "Shaikh Raish Azam",
      "userId": "13955866307507937789"
     },
     "user_tz": -330
    },
    "id": "qffxPdkz14I8"
   },
   "outputs": [],
   "source": [
    "# for i in range(0,51,3):\n",
    "#   #creating an object of Ridge class\n",
    "#   l2 = Ridge(i)\n",
    "#   print(i)\n",
    "#   #now training the model by adding external error in it\n",
    "#   l2.fit(x_train,y_train)\n",
    "\n",
    "#   #now checking the training score\n",
    "#   train_score = l2.score(x_train,y_train)\n",
    "#   print(f'training_score: {train_score}')\n",
    "\n",
    "#   #now checking the testing score\n",
    "#   test_score = l2.score(x_test,y_test)\n",
    "#   print(f'test_score: {test_score}')\n",
    "#   print()\n",
    "\n",
    "#the hyperparameter value for ridge will taken into consideration is 27"
   ]
  },
  {
   "cell_type": "code",
   "execution_count": 187,
   "metadata": {
    "colab": {
     "base_uri": "https://localhost:8080/"
    },
    "executionInfo": {
     "elapsed": 51,
     "status": "ok",
     "timestamp": 1707836596016,
     "user": {
      "displayName": "Shaikh Raish Azam",
      "userId": "13955866307507937789"
     },
     "user_tz": -330
    },
    "id": "dhAbsOG514LU",
    "outputId": "c34e24e2-672b-4979-e391-c924cc6f140c"
   },
   "outputs": [
    {
     "name": "stdout",
     "output_type": "stream",
     "text": [
      "Name_of_model: Ridge(alpha=30)\n",
      "mean_squared_error: 5859022.073367501\n",
      "testing_score_model: 0.7285230413082924\n",
      "--------------------------------------------------------------------------------------------------\n"
     ]
    }
   ],
   "source": [
    "#creating an object of Ridge class\n",
    "l2 = Ridge(30)\n",
    "l2 = model_training(l2)"
   ]
  },
  {
   "cell_type": "markdown",
   "metadata": {},
   "source": [
    "# From above 3 model we can conclude the LR model is suitable for our dataset.coming out high accuracy 81% compare to others model"
   ]
  },
  {
   "cell_type": "code",
   "execution_count": 188,
   "metadata": {},
   "outputs": [
    {
     "name": "stdout",
     "output_type": "stream",
     "text": [
      "Name_of_model: LinearRegression()\n",
      "mean_squared_error: 3888850.1945484458\n",
      "testing_score_model: 0.8198106765252584\n",
      "--------------------------------------------------------------------------------------------------\n"
     ]
    },
    {
     "data": {
      "text/html": [
       "<style>#sk-container-id-3 {\n",
       "  /* Definition of color scheme common for light and dark mode */\n",
       "  --sklearn-color-text: black;\n",
       "  --sklearn-color-line: gray;\n",
       "  /* Definition of color scheme for unfitted estimators */\n",
       "  --sklearn-color-unfitted-level-0: #fff5e6;\n",
       "  --sklearn-color-unfitted-level-1: #f6e4d2;\n",
       "  --sklearn-color-unfitted-level-2: #ffe0b3;\n",
       "  --sklearn-color-unfitted-level-3: chocolate;\n",
       "  /* Definition of color scheme for fitted estimators */\n",
       "  --sklearn-color-fitted-level-0: #f0f8ff;\n",
       "  --sklearn-color-fitted-level-1: #d4ebff;\n",
       "  --sklearn-color-fitted-level-2: #b3dbfd;\n",
       "  --sklearn-color-fitted-level-3: cornflowerblue;\n",
       "\n",
       "  /* Specific color for light theme */\n",
       "  --sklearn-color-text-on-default-background: var(--sg-text-color, var(--theme-code-foreground, var(--jp-content-font-color1, black)));\n",
       "  --sklearn-color-background: var(--sg-background-color, var(--theme-background, var(--jp-layout-color0, white)));\n",
       "  --sklearn-color-border-box: var(--sg-text-color, var(--theme-code-foreground, var(--jp-content-font-color1, black)));\n",
       "  --sklearn-color-icon: #696969;\n",
       "\n",
       "  @media (prefers-color-scheme: dark) {\n",
       "    /* Redefinition of color scheme for dark theme */\n",
       "    --sklearn-color-text-on-default-background: var(--sg-text-color, var(--theme-code-foreground, var(--jp-content-font-color1, white)));\n",
       "    --sklearn-color-background: var(--sg-background-color, var(--theme-background, var(--jp-layout-color0, #111)));\n",
       "    --sklearn-color-border-box: var(--sg-text-color, var(--theme-code-foreground, var(--jp-content-font-color1, white)));\n",
       "    --sklearn-color-icon: #878787;\n",
       "  }\n",
       "}\n",
       "\n",
       "#sk-container-id-3 {\n",
       "  color: var(--sklearn-color-text);\n",
       "}\n",
       "\n",
       "#sk-container-id-3 pre {\n",
       "  padding: 0;\n",
       "}\n",
       "\n",
       "#sk-container-id-3 input.sk-hidden--visually {\n",
       "  border: 0;\n",
       "  clip: rect(1px 1px 1px 1px);\n",
       "  clip: rect(1px, 1px, 1px, 1px);\n",
       "  height: 1px;\n",
       "  margin: -1px;\n",
       "  overflow: hidden;\n",
       "  padding: 0;\n",
       "  position: absolute;\n",
       "  width: 1px;\n",
       "}\n",
       "\n",
       "#sk-container-id-3 div.sk-dashed-wrapped {\n",
       "  border: 1px dashed var(--sklearn-color-line);\n",
       "  margin: 0 0.4em 0.5em 0.4em;\n",
       "  box-sizing: border-box;\n",
       "  padding-bottom: 0.4em;\n",
       "  background-color: var(--sklearn-color-background);\n",
       "}\n",
       "\n",
       "#sk-container-id-3 div.sk-container {\n",
       "  /* jupyter's `normalize.less` sets `[hidden] { display: none; }`\n",
       "     but bootstrap.min.css set `[hidden] { display: none !important; }`\n",
       "     so we also need the `!important` here to be able to override the\n",
       "     default hidden behavior on the sphinx rendered scikit-learn.org.\n",
       "     See: https://github.com/scikit-learn/scikit-learn/issues/21755 */\n",
       "  display: inline-block !important;\n",
       "  position: relative;\n",
       "}\n",
       "\n",
       "#sk-container-id-3 div.sk-text-repr-fallback {\n",
       "  display: none;\n",
       "}\n",
       "\n",
       "div.sk-parallel-item,\n",
       "div.sk-serial,\n",
       "div.sk-item {\n",
       "  /* draw centered vertical line to link estimators */\n",
       "  background-image: linear-gradient(var(--sklearn-color-text-on-default-background), var(--sklearn-color-text-on-default-background));\n",
       "  background-size: 2px 100%;\n",
       "  background-repeat: no-repeat;\n",
       "  background-position: center center;\n",
       "}\n",
       "\n",
       "/* Parallel-specific style estimator block */\n",
       "\n",
       "#sk-container-id-3 div.sk-parallel-item::after {\n",
       "  content: \"\";\n",
       "  width: 100%;\n",
       "  border-bottom: 2px solid var(--sklearn-color-text-on-default-background);\n",
       "  flex-grow: 1;\n",
       "}\n",
       "\n",
       "#sk-container-id-3 div.sk-parallel {\n",
       "  display: flex;\n",
       "  align-items: stretch;\n",
       "  justify-content: center;\n",
       "  background-color: var(--sklearn-color-background);\n",
       "  position: relative;\n",
       "}\n",
       "\n",
       "#sk-container-id-3 div.sk-parallel-item {\n",
       "  display: flex;\n",
       "  flex-direction: column;\n",
       "}\n",
       "\n",
       "#sk-container-id-3 div.sk-parallel-item:first-child::after {\n",
       "  align-self: flex-end;\n",
       "  width: 50%;\n",
       "}\n",
       "\n",
       "#sk-container-id-3 div.sk-parallel-item:last-child::after {\n",
       "  align-self: flex-start;\n",
       "  width: 50%;\n",
       "}\n",
       "\n",
       "#sk-container-id-3 div.sk-parallel-item:only-child::after {\n",
       "  width: 0;\n",
       "}\n",
       "\n",
       "/* Serial-specific style estimator block */\n",
       "\n",
       "#sk-container-id-3 div.sk-serial {\n",
       "  display: flex;\n",
       "  flex-direction: column;\n",
       "  align-items: center;\n",
       "  background-color: var(--sklearn-color-background);\n",
       "  padding-right: 1em;\n",
       "  padding-left: 1em;\n",
       "}\n",
       "\n",
       "\n",
       "/* Toggleable style: style used for estimator/Pipeline/ColumnTransformer box that is\n",
       "clickable and can be expanded/collapsed.\n",
       "- Pipeline and ColumnTransformer use this feature and define the default style\n",
       "- Estimators will overwrite some part of the style using the `sk-estimator` class\n",
       "*/\n",
       "\n",
       "/* Pipeline and ColumnTransformer style (default) */\n",
       "\n",
       "#sk-container-id-3 div.sk-toggleable {\n",
       "  /* Default theme specific background. It is overwritten whether we have a\n",
       "  specific estimator or a Pipeline/ColumnTransformer */\n",
       "  background-color: var(--sklearn-color-background);\n",
       "}\n",
       "\n",
       "/* Toggleable label */\n",
       "#sk-container-id-3 label.sk-toggleable__label {\n",
       "  cursor: pointer;\n",
       "  display: block;\n",
       "  width: 100%;\n",
       "  margin-bottom: 0;\n",
       "  padding: 0.5em;\n",
       "  box-sizing: border-box;\n",
       "  text-align: center;\n",
       "}\n",
       "\n",
       "#sk-container-id-3 label.sk-toggleable__label-arrow:before {\n",
       "  /* Arrow on the left of the label */\n",
       "  content: \"▸\";\n",
       "  float: left;\n",
       "  margin-right: 0.25em;\n",
       "  color: var(--sklearn-color-icon);\n",
       "}\n",
       "\n",
       "#sk-container-id-3 label.sk-toggleable__label-arrow:hover:before {\n",
       "  color: var(--sklearn-color-text);\n",
       "}\n",
       "\n",
       "/* Toggleable content - dropdown */\n",
       "\n",
       "#sk-container-id-3 div.sk-toggleable__content {\n",
       "  max-height: 0;\n",
       "  max-width: 0;\n",
       "  overflow: hidden;\n",
       "  text-align: left;\n",
       "  /* unfitted */\n",
       "  background-color: var(--sklearn-color-unfitted-level-0);\n",
       "}\n",
       "\n",
       "#sk-container-id-3 div.sk-toggleable__content.fitted {\n",
       "  /* fitted */\n",
       "  background-color: var(--sklearn-color-fitted-level-0);\n",
       "}\n",
       "\n",
       "#sk-container-id-3 div.sk-toggleable__content pre {\n",
       "  margin: 0.2em;\n",
       "  border-radius: 0.25em;\n",
       "  color: var(--sklearn-color-text);\n",
       "  /* unfitted */\n",
       "  background-color: var(--sklearn-color-unfitted-level-0);\n",
       "}\n",
       "\n",
       "#sk-container-id-3 div.sk-toggleable__content.fitted pre {\n",
       "  /* unfitted */\n",
       "  background-color: var(--sklearn-color-fitted-level-0);\n",
       "}\n",
       "\n",
       "#sk-container-id-3 input.sk-toggleable__control:checked~div.sk-toggleable__content {\n",
       "  /* Expand drop-down */\n",
       "  max-height: 200px;\n",
       "  max-width: 100%;\n",
       "  overflow: auto;\n",
       "}\n",
       "\n",
       "#sk-container-id-3 input.sk-toggleable__control:checked~label.sk-toggleable__label-arrow:before {\n",
       "  content: \"▾\";\n",
       "}\n",
       "\n",
       "/* Pipeline/ColumnTransformer-specific style */\n",
       "\n",
       "#sk-container-id-3 div.sk-label input.sk-toggleable__control:checked~label.sk-toggleable__label {\n",
       "  color: var(--sklearn-color-text);\n",
       "  background-color: var(--sklearn-color-unfitted-level-2);\n",
       "}\n",
       "\n",
       "#sk-container-id-3 div.sk-label.fitted input.sk-toggleable__control:checked~label.sk-toggleable__label {\n",
       "  background-color: var(--sklearn-color-fitted-level-2);\n",
       "}\n",
       "\n",
       "/* Estimator-specific style */\n",
       "\n",
       "/* Colorize estimator box */\n",
       "#sk-container-id-3 div.sk-estimator input.sk-toggleable__control:checked~label.sk-toggleable__label {\n",
       "  /* unfitted */\n",
       "  background-color: var(--sklearn-color-unfitted-level-2);\n",
       "}\n",
       "\n",
       "#sk-container-id-3 div.sk-estimator.fitted input.sk-toggleable__control:checked~label.sk-toggleable__label {\n",
       "  /* fitted */\n",
       "  background-color: var(--sklearn-color-fitted-level-2);\n",
       "}\n",
       "\n",
       "#sk-container-id-3 div.sk-label label.sk-toggleable__label,\n",
       "#sk-container-id-3 div.sk-label label {\n",
       "  /* The background is the default theme color */\n",
       "  color: var(--sklearn-color-text-on-default-background);\n",
       "}\n",
       "\n",
       "/* On hover, darken the color of the background */\n",
       "#sk-container-id-3 div.sk-label:hover label.sk-toggleable__label {\n",
       "  color: var(--sklearn-color-text);\n",
       "  background-color: var(--sklearn-color-unfitted-level-2);\n",
       "}\n",
       "\n",
       "/* Label box, darken color on hover, fitted */\n",
       "#sk-container-id-3 div.sk-label.fitted:hover label.sk-toggleable__label.fitted {\n",
       "  color: var(--sklearn-color-text);\n",
       "  background-color: var(--sklearn-color-fitted-level-2);\n",
       "}\n",
       "\n",
       "/* Estimator label */\n",
       "\n",
       "#sk-container-id-3 div.sk-label label {\n",
       "  font-family: monospace;\n",
       "  font-weight: bold;\n",
       "  display: inline-block;\n",
       "  line-height: 1.2em;\n",
       "}\n",
       "\n",
       "#sk-container-id-3 div.sk-label-container {\n",
       "  text-align: center;\n",
       "}\n",
       "\n",
       "/* Estimator-specific */\n",
       "#sk-container-id-3 div.sk-estimator {\n",
       "  font-family: monospace;\n",
       "  border: 1px dotted var(--sklearn-color-border-box);\n",
       "  border-radius: 0.25em;\n",
       "  box-sizing: border-box;\n",
       "  margin-bottom: 0.5em;\n",
       "  /* unfitted */\n",
       "  background-color: var(--sklearn-color-unfitted-level-0);\n",
       "}\n",
       "\n",
       "#sk-container-id-3 div.sk-estimator.fitted {\n",
       "  /* fitted */\n",
       "  background-color: var(--sklearn-color-fitted-level-0);\n",
       "}\n",
       "\n",
       "/* on hover */\n",
       "#sk-container-id-3 div.sk-estimator:hover {\n",
       "  /* unfitted */\n",
       "  background-color: var(--sklearn-color-unfitted-level-2);\n",
       "}\n",
       "\n",
       "#sk-container-id-3 div.sk-estimator.fitted:hover {\n",
       "  /* fitted */\n",
       "  background-color: var(--sklearn-color-fitted-level-2);\n",
       "}\n",
       "\n",
       "/* Specification for estimator info (e.g. \"i\" and \"?\") */\n",
       "\n",
       "/* Common style for \"i\" and \"?\" */\n",
       "\n",
       ".sk-estimator-doc-link,\n",
       "a:link.sk-estimator-doc-link,\n",
       "a:visited.sk-estimator-doc-link {\n",
       "  float: right;\n",
       "  font-size: smaller;\n",
       "  line-height: 1em;\n",
       "  font-family: monospace;\n",
       "  background-color: var(--sklearn-color-background);\n",
       "  border-radius: 1em;\n",
       "  height: 1em;\n",
       "  width: 1em;\n",
       "  text-decoration: none !important;\n",
       "  margin-left: 1ex;\n",
       "  /* unfitted */\n",
       "  border: var(--sklearn-color-unfitted-level-1) 1pt solid;\n",
       "  color: var(--sklearn-color-unfitted-level-1);\n",
       "}\n",
       "\n",
       ".sk-estimator-doc-link.fitted,\n",
       "a:link.sk-estimator-doc-link.fitted,\n",
       "a:visited.sk-estimator-doc-link.fitted {\n",
       "  /* fitted */\n",
       "  border: var(--sklearn-color-fitted-level-1) 1pt solid;\n",
       "  color: var(--sklearn-color-fitted-level-1);\n",
       "}\n",
       "\n",
       "/* On hover */\n",
       "div.sk-estimator:hover .sk-estimator-doc-link:hover,\n",
       ".sk-estimator-doc-link:hover,\n",
       "div.sk-label-container:hover .sk-estimator-doc-link:hover,\n",
       ".sk-estimator-doc-link:hover {\n",
       "  /* unfitted */\n",
       "  background-color: var(--sklearn-color-unfitted-level-3);\n",
       "  color: var(--sklearn-color-background);\n",
       "  text-decoration: none;\n",
       "}\n",
       "\n",
       "div.sk-estimator.fitted:hover .sk-estimator-doc-link.fitted:hover,\n",
       ".sk-estimator-doc-link.fitted:hover,\n",
       "div.sk-label-container:hover .sk-estimator-doc-link.fitted:hover,\n",
       ".sk-estimator-doc-link.fitted:hover {\n",
       "  /* fitted */\n",
       "  background-color: var(--sklearn-color-fitted-level-3);\n",
       "  color: var(--sklearn-color-background);\n",
       "  text-decoration: none;\n",
       "}\n",
       "\n",
       "/* Span, style for the box shown on hovering the info icon */\n",
       ".sk-estimator-doc-link span {\n",
       "  display: none;\n",
       "  z-index: 9999;\n",
       "  position: relative;\n",
       "  font-weight: normal;\n",
       "  right: .2ex;\n",
       "  padding: .5ex;\n",
       "  margin: .5ex;\n",
       "  width: min-content;\n",
       "  min-width: 20ex;\n",
       "  max-width: 50ex;\n",
       "  color: var(--sklearn-color-text);\n",
       "  box-shadow: 2pt 2pt 4pt #999;\n",
       "  /* unfitted */\n",
       "  background: var(--sklearn-color-unfitted-level-0);\n",
       "  border: .5pt solid var(--sklearn-color-unfitted-level-3);\n",
       "}\n",
       "\n",
       ".sk-estimator-doc-link.fitted span {\n",
       "  /* fitted */\n",
       "  background: var(--sklearn-color-fitted-level-0);\n",
       "  border: var(--sklearn-color-fitted-level-3);\n",
       "}\n",
       "\n",
       ".sk-estimator-doc-link:hover span {\n",
       "  display: block;\n",
       "}\n",
       "\n",
       "/* \"?\"-specific style due to the `<a>` HTML tag */\n",
       "\n",
       "#sk-container-id-3 a.estimator_doc_link {\n",
       "  float: right;\n",
       "  font-size: 1rem;\n",
       "  line-height: 1em;\n",
       "  font-family: monospace;\n",
       "  background-color: var(--sklearn-color-background);\n",
       "  border-radius: 1rem;\n",
       "  height: 1rem;\n",
       "  width: 1rem;\n",
       "  text-decoration: none;\n",
       "  /* unfitted */\n",
       "  color: var(--sklearn-color-unfitted-level-1);\n",
       "  border: var(--sklearn-color-unfitted-level-1) 1pt solid;\n",
       "}\n",
       "\n",
       "#sk-container-id-3 a.estimator_doc_link.fitted {\n",
       "  /* fitted */\n",
       "  border: var(--sklearn-color-fitted-level-1) 1pt solid;\n",
       "  color: var(--sklearn-color-fitted-level-1);\n",
       "}\n",
       "\n",
       "/* On hover */\n",
       "#sk-container-id-3 a.estimator_doc_link:hover {\n",
       "  /* unfitted */\n",
       "  background-color: var(--sklearn-color-unfitted-level-3);\n",
       "  color: var(--sklearn-color-background);\n",
       "  text-decoration: none;\n",
       "}\n",
       "\n",
       "#sk-container-id-3 a.estimator_doc_link.fitted:hover {\n",
       "  /* fitted */\n",
       "  background-color: var(--sklearn-color-fitted-level-3);\n",
       "}\n",
       "</style><div id=\"sk-container-id-3\" class=\"sk-top-container\"><div class=\"sk-text-repr-fallback\"><pre>LinearRegression()</pre><b>In a Jupyter environment, please rerun this cell to show the HTML representation or trust the notebook. <br />On GitHub, the HTML representation is unable to render, please try loading this page with nbviewer.org.</b></div><div class=\"sk-container\" hidden><div class=\"sk-item\"><div class=\"sk-estimator fitted sk-toggleable\"><input class=\"sk-toggleable__control sk-hidden--visually\" id=\"sk-estimator-id-3\" type=\"checkbox\" checked><label for=\"sk-estimator-id-3\" class=\"sk-toggleable__label fitted sk-toggleable__label-arrow fitted\">&nbsp;&nbsp;LinearRegression<a class=\"sk-estimator-doc-link fitted\" rel=\"noreferrer\" target=\"_blank\" href=\"https://scikit-learn.org/1.4/modules/generated/sklearn.linear_model.LinearRegression.html\">?<span>Documentation for LinearRegression</span></a><span class=\"sk-estimator-doc-link fitted\">i<span>Fitted</span></span></label><div class=\"sk-toggleable__content fitted\"><pre>LinearRegression()</pre></div> </div></div></div></div>"
      ],
      "text/plain": [
       "LinearRegression()"
      ]
     },
     "execution_count": 188,
     "metadata": {},
     "output_type": "execute_result"
    }
   ],
   "source": [
    "lin_model = LinearRegression(fit_intercept=True)\n",
    "lin_model = model_training(lin_model)\n",
    "lin_model"
   ]
  },
  {
   "cell_type": "code",
   "execution_count": 189,
   "metadata": {},
   "outputs": [],
   "source": [
    "y_pred =  lin_model.predict(x_test)"
   ]
  },
  {
   "cell_type": "code",
   "execution_count": 190,
   "metadata": {},
   "outputs": [
    {
     "data": {
      "image/png": "[encoded data removed]",
      "text/plain": [
       "<Figure size 640x480 with 1 Axes>"
      ]
     },
     "metadata": {},
     "output_type": "display_data"
    }
   ],
   "source": [
    "#between actual and predicted output what type of relationship we r getting\n",
    "plt.scatter(y_test,y_pred);\n",
    "plt.xlabel('Actual');\n",
    "plt.ylabel('Predicted');"
   ]
  },
  {
   "cell_type": "code",
   "execution_count": 191,
   "metadata": {},
   "outputs": [
    {
     "data": {
      "image/png": "[encoded data removed]",
      "text/plain": [
       "<Figure size 640x480 with 1 Axes>"
      ]
     },
     "metadata": {},
     "output_type": "display_data"
    }
   ],
   "source": [
    "#now visualizing the machine what best line predict for this model\n",
    "sb.regplot(x=y_test,y=y_pred,ci=None,color ='red');"
   ]
  },
  {
   "cell_type": "code",
   "execution_count": 192,
   "metadata": {},
   "outputs": [
    {
     "data": {
      "text/html": [
       "<div>\n",
       "<style scoped>\n",
       "    .dataframe tbody tr th:only-of-type {\n",
       "        vertical-align: middle;\n",
       "    }\n",
       "\n",
       "    .dataframe tbody tr th {\n",
       "        vertical-align: top;\n",
       "    }\n",
       "\n",
       "    .dataframe thead th {\n",
       "        text-align: right;\n",
       "    }\n",
       "</style>\n",
       "<table border=\"1\" class=\"dataframe\">\n",
       "  <thead>\n",
       "    <tr style=\"text-align: right;\">\n",
       "      <th></th>\n",
       "      <th>Actual_output</th>\n",
       "      <th>Predicted_output</th>\n",
       "      <th>residual_error</th>\n",
       "    </tr>\n",
       "  </thead>\n",
       "  <tbody>\n",
       "    <tr>\n",
       "      <th>31</th>\n",
       "      <td>7129</td>\n",
       "      <td>7202.645823</td>\n",
       "      <td>-73.645823</td>\n",
       "    </tr>\n",
       "    <tr>\n",
       "      <th>66</th>\n",
       "      <td>6189</td>\n",
       "      <td>5790.731916</td>\n",
       "      <td>398.268084</td>\n",
       "    </tr>\n",
       "    <tr>\n",
       "      <th>113</th>\n",
       "      <td>12764</td>\n",
       "      <td>12440.724114</td>\n",
       "      <td>323.275886</td>\n",
       "    </tr>\n",
       "    <tr>\n",
       "      <th>154</th>\n",
       "      <td>9639</td>\n",
       "      <td>11325.374714</td>\n",
       "      <td>-1686.374714</td>\n",
       "    </tr>\n",
       "    <tr>\n",
       "      <th>81</th>\n",
       "      <td>6849</td>\n",
       "      <td>7021.853944</td>\n",
       "      <td>-172.853944</td>\n",
       "    </tr>\n",
       "    <tr>\n",
       "      <th>122</th>\n",
       "      <td>18150</td>\n",
       "      <td>16243.649863</td>\n",
       "      <td>1906.350137</td>\n",
       "    </tr>\n",
       "    <tr>\n",
       "      <th>35</th>\n",
       "      <td>9095</td>\n",
       "      <td>9175.046214</td>\n",
       "      <td>-80.046214</td>\n",
       "    </tr>\n",
       "    <tr>\n",
       "      <th>103</th>\n",
       "      <td>17075</td>\n",
       "      <td>16794.205507</td>\n",
       "      <td>280.794493</td>\n",
       "    </tr>\n",
       "    <tr>\n",
       "      <th>183</th>\n",
       "      <td>16515</td>\n",
       "      <td>16017.645183</td>\n",
       "      <td>497.354817</td>\n",
       "    </tr>\n",
       "    <tr>\n",
       "      <th>99</th>\n",
       "      <td>13860</td>\n",
       "      <td>16794.205507</td>\n",
       "      <td>-2934.205507</td>\n",
       "    </tr>\n",
       "    <tr>\n",
       "      <th>127</th>\n",
       "      <td>7126</td>\n",
       "      <td>9065.789608</td>\n",
       "      <td>-1939.789608</td>\n",
       "    </tr>\n",
       "    <tr>\n",
       "      <th>16</th>\n",
       "      <td>6295</td>\n",
       "      <td>5944.208251</td>\n",
       "      <td>350.791749</td>\n",
       "    </tr>\n",
       "    <tr>\n",
       "      <th>73</th>\n",
       "      <td>14489</td>\n",
       "      <td>12010.816596</td>\n",
       "      <td>2478.183404</td>\n",
       "    </tr>\n",
       "    <tr>\n",
       "      <th>160</th>\n",
       "      <td>10698</td>\n",
       "      <td>12159.471794</td>\n",
       "      <td>-1461.471794</td>\n",
       "    </tr>\n",
       "    <tr>\n",
       "      <th>186</th>\n",
       "      <td>16845</td>\n",
       "      <td>17870.247985</td>\n",
       "      <td>-1025.247985</td>\n",
       "    </tr>\n",
       "    <tr>\n",
       "      <th>67</th>\n",
       "      <td>6669</td>\n",
       "      <td>5790.731916</td>\n",
       "      <td>878.268084</td>\n",
       "    </tr>\n",
       "    <tr>\n",
       "      <th>120</th>\n",
       "      <td>15040</td>\n",
       "      <td>13663.335048</td>\n",
       "      <td>1376.664952</td>\n",
       "    </tr>\n",
       "    <tr>\n",
       "      <th>40</th>\n",
       "      <td>6785</td>\n",
       "      <td>13241.919223</td>\n",
       "      <td>-6456.919223</td>\n",
       "    </tr>\n",
       "    <tr>\n",
       "      <th>4</th>\n",
       "      <td>17450</td>\n",
       "      <td>14570.301742</td>\n",
       "      <td>2879.698258</td>\n",
       "    </tr>\n",
       "    <tr>\n",
       "      <th>47</th>\n",
       "      <td>6695</td>\n",
       "      <td>7778.233556</td>\n",
       "      <td>-1083.233556</td>\n",
       "    </tr>\n",
       "    <tr>\n",
       "      <th>51</th>\n",
       "      <td>13645</td>\n",
       "      <td>12232.414281</td>\n",
       "      <td>1412.585719</td>\n",
       "    </tr>\n",
       "    <tr>\n",
       "      <th>169</th>\n",
       "      <td>7975</td>\n",
       "      <td>9408.495553</td>\n",
       "      <td>-1433.495553</td>\n",
       "    </tr>\n",
       "    <tr>\n",
       "      <th>130</th>\n",
       "      <td>9233</td>\n",
       "      <td>9501.685643</td>\n",
       "      <td>-268.685643</td>\n",
       "    </tr>\n",
       "    <tr>\n",
       "      <th>150</th>\n",
       "      <td>8238</td>\n",
       "      <td>7332.908481</td>\n",
       "      <td>905.091519</td>\n",
       "    </tr>\n",
       "    <tr>\n",
       "      <th>29</th>\n",
       "      <td>5399</td>\n",
       "      <td>5859.718323</td>\n",
       "      <td>-460.718323</td>\n",
       "    </tr>\n",
       "    <tr>\n",
       "      <th>53</th>\n",
       "      <td>8845</td>\n",
       "      <td>10572.206937</td>\n",
       "      <td>-1727.206937</td>\n",
       "    </tr>\n",
       "    <tr>\n",
       "      <th>11</th>\n",
       "      <td>16925</td>\n",
       "      <td>18517.846936</td>\n",
       "      <td>-1592.846936</td>\n",
       "    </tr>\n",
       "    <tr>\n",
       "      <th>108</th>\n",
       "      <td>7957</td>\n",
       "      <td>7859.842123</td>\n",
       "      <td>97.157877</td>\n",
       "    </tr>\n",
       "    <tr>\n",
       "      <th>171</th>\n",
       "      <td>8195</td>\n",
       "      <td>8925.968038</td>\n",
       "      <td>-730.968038</td>\n",
       "    </tr>\n",
       "    <tr>\n",
       "      <th>56</th>\n",
       "      <td>10245</td>\n",
       "      <td>11339.416158</td>\n",
       "      <td>-1094.416158</td>\n",
       "    </tr>\n",
       "    <tr>\n",
       "      <th>14</th>\n",
       "      <td>24565</td>\n",
       "      <td>21237.543137</td>\n",
       "      <td>3327.456863</td>\n",
       "    </tr>\n",
       "    <tr>\n",
       "      <th>107</th>\n",
       "      <td>5572</td>\n",
       "      <td>5502.587140</td>\n",
       "      <td>69.412860</td>\n",
       "    </tr>\n",
       "    <tr>\n",
       "      <th>174</th>\n",
       "      <td>9995</td>\n",
       "      <td>9740.366105</td>\n",
       "      <td>254.633895</td>\n",
       "    </tr>\n",
       "    <tr>\n",
       "      <th>19</th>\n",
       "      <td>6377</td>\n",
       "      <td>5606.672304</td>\n",
       "      <td>770.327696</td>\n",
       "    </tr>\n",
       "    <tr>\n",
       "      <th>78</th>\n",
       "      <td>5499</td>\n",
       "      <td>7110.704868</td>\n",
       "      <td>-1611.704868</td>\n",
       "    </tr>\n",
       "    <tr>\n",
       "      <th>90</th>\n",
       "      <td>13499</td>\n",
       "      <td>16292.954945</td>\n",
       "      <td>-2793.954945</td>\n",
       "    </tr>\n",
       "    <tr>\n",
       "      <th>112</th>\n",
       "      <td>8921</td>\n",
       "      <td>8464.046876</td>\n",
       "      <td>456.953124</td>\n",
       "    </tr>\n",
       "    <tr>\n",
       "      <th>84</th>\n",
       "      <td>7799</td>\n",
       "      <td>6183.102864</td>\n",
       "      <td>1615.897136</td>\n",
       "    </tr>\n",
       "    <tr>\n",
       "      <th>59</th>\n",
       "      <td>18280</td>\n",
       "      <td>12664.553466</td>\n",
       "      <td>5615.446534</td>\n",
       "    </tr>\n",
       "  </tbody>\n",
       "</table>\n",
       "</div>"
      ],
      "text/plain": [
       "     Actual_output  Predicted_output  residual_error\n",
       "31            7129       7202.645823      -73.645823\n",
       "66            6189       5790.731916      398.268084\n",
       "113          12764      12440.724114      323.275886\n",
       "154           9639      11325.374714    -1686.374714\n",
       "81            6849       7021.853944     -172.853944\n",
       "122          18150      16243.649863     1906.350137\n",
       "35            9095       9175.046214      -80.046214\n",
       "103          17075      16794.205507      280.794493\n",
       "183          16515      16017.645183      497.354817\n",
       "99           13860      16794.205507    -2934.205507\n",
       "127           7126       9065.789608    -1939.789608\n",
       "16            6295       5944.208251      350.791749\n",
       "73           14489      12010.816596     2478.183404\n",
       "160          10698      12159.471794    -1461.471794\n",
       "186          16845      17870.247985    -1025.247985\n",
       "67            6669       5790.731916      878.268084\n",
       "120          15040      13663.335048     1376.664952\n",
       "40            6785      13241.919223    -6456.919223\n",
       "4            17450      14570.301742     2879.698258\n",
       "47            6695       7778.233556    -1083.233556\n",
       "51           13645      12232.414281     1412.585719\n",
       "169           7975       9408.495553    -1433.495553\n",
       "130           9233       9501.685643     -268.685643\n",
       "150           8238       7332.908481      905.091519\n",
       "29            5399       5859.718323     -460.718323\n",
       "53            8845      10572.206937    -1727.206937\n",
       "11           16925      18517.846936    -1592.846936\n",
       "108           7957       7859.842123       97.157877\n",
       "171           8195       8925.968038     -730.968038\n",
       "56           10245      11339.416158    -1094.416158\n",
       "14           24565      21237.543137     3327.456863\n",
       "107           5572       5502.587140       69.412860\n",
       "174           9995       9740.366105      254.633895\n",
       "19            6377       5606.672304      770.327696\n",
       "78            5499       7110.704868    -1611.704868\n",
       "90           13499      16292.954945    -2793.954945\n",
       "112           8921       8464.046876      456.953124\n",
       "84            7799       6183.102864     1615.897136\n",
       "59           18280      12664.553466     5615.446534"
      ]
     },
     "execution_count": 192,
     "metadata": {},
     "output_type": "execute_result"
    }
   ],
   "source": [
    "#now represneting the data in a structure format according \n",
    "#to features what actual predicted and residual error we r getting\n",
    "\n",
    "pred_df=pd.DataFrame({\n",
    "                      'Actual_output':y_test,\n",
    "                      'Predicted_output':y_pred,\n",
    "                      'residual_error':y_test-y_pred})\n",
    "pred_df"
   ]
  }
 ],
 "metadata": {
  "colab": {
   "authorship_tag": "ABX9TyO3IHOXBDt99GpE4pWOBFDI",
   "mount_file_id": "1iNsFPVb1svkiikUAbvLQu4Ygg-kRiO44",
   "provenance": []
  },
  "kernelspec": {
   "display_name": "Python 3 (ipykernel)",
   "language": "python",
   "name": "python3"
  },
  "language_info": {
   "codemirror_mode": {
    "name": "ipython",
    "version": 3
   },
   "file_extension": ".py",
   "mimetype": "text/x-python",
   "name": "python",
   "nbconvert_exporter": "python",
   "pygments_lexer": "ipython3",
   "version": "3.11.0"
  }
 },
 "nbformat": 4,
 "nbformat_minor": 1
}
